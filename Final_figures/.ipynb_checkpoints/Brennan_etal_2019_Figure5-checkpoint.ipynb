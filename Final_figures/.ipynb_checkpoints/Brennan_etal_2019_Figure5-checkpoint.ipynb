{
 "cells": [
  {
   "cell_type": "markdown",
   "metadata": {},
   "source": [
    "# Brennan etal 2019 - Figure 4: \n",
    "\n",
    "## Quantify distribution of trends during ETCW under different parameters: \n",
    "\n",
    "Katie Brennan  \n",
    "October 2019  \n",
    "\n",
    "Looking at the sensitivity of different values of inflation and localization on the trend during the ETCW relative to the satellite era.   \n"
   ]
  },
  {
   "cell_type": "code",
   "execution_count": 1,
   "metadata": {},
   "outputs": [],
   "source": [
    "import pickle \n",
    "import numpy as np \n",
    "import matplotlib.pyplot as plt\n",
    "import sys\n",
    "from scipy import stats\n",
    "plt.rcParams['figure.dpi']=200"
   ]
  },
  {
   "cell_type": "code",
   "execution_count": 2,
   "metadata": {},
   "outputs": [
    {
     "name": "stdout",
     "output_type": "stream",
     "text": [
      "Loading information from datasets.yml\n",
      "Loading information from grid_def.yml\n",
      "Loading information from datasets.yml\n",
      "Loading information from grid_def.yml\n"
     ]
    }
   ],
   "source": [
    "sys.path.insert(1,'../')\n",
    "import reanalysis_recons_utils as rrutils"
   ]
  },
  {
   "cell_type": "code",
   "execution_count": 3,
   "metadata": {},
   "outputs": [
    {
     "data": {
      "text/plain": [
       "<module 'reanalysis_recons_utils' from '../reanalysis_recons_utils.py'>"
      ]
     },
     "execution_count": 3,
     "metadata": {},
     "output_type": "execute_result"
    }
   ],
   "source": [
    "import importlib\n",
    "# #importlib.reload(LMRlite)\n",
    "# #importlib.reload(LMR_config)\n",
    "# importlib.reload(LMRlite)\n",
    "importlib.reload(rrutils)"
   ]
  },
  {
   "cell_type": "code",
   "execution_count": 4,
   "metadata": {},
   "outputs": [],
   "source": [
    "anom_start = 1979\n",
    "anom_end = 2013"
   ]
  },
  {
   "cell_type": "markdown",
   "metadata": {},
   "source": [
    "### Load satellite data: "
   ]
  },
  {
   "cell_type": "code",
   "execution_count": 5,
   "metadata": {},
   "outputs": [],
   "source": [
    "# LOAD ANNUAL SATELLITE DATA: \n",
    "sat_start = 1979.0\n",
    "sat_end = 2017\n",
    "\n",
    "[fet_sia_anom, fet_sie_anom, fet_time] = rrutils.load_annual_satellite_anom(anom_end)\n",
    "[fet_sia, fet_sie, fet_time2] = rrutils.load_annual_satellite()\n",
    "\n",
    "sat_slope = rrutils.find_trend(fet_sie_anom, fet_time, anom_start,anom_end)\n",
    "\n",
    "# plt.plot(fet_time,fet_sia_anom)\n",
    "# plt.plot(fet_time,fet_sie_anom)"
   ]
  },
  {
   "cell_type": "markdown",
   "metadata": {},
   "source": [
    "### Load Walsh"
   ]
  },
  {
   "cell_type": "code",
   "execution_count": 6,
   "metadata": {},
   "outputs": [],
   "source": [
    "## LOAD ANNUAL WALSH DATA: \n",
    "walsh_start = 1850\n",
    "walsh_end = 2013\n",
    "\n",
    "[walsh_sia, walsh_sie, walsh_time] = rrutils.load_annual_walsh()\n",
    "\n",
    "walsh_sia_anom = rrutils.find_anomalies(walsh_time, walsh_sia, anom_start,anom_end)\n",
    "walsh_sie_anom = rrutils.find_anomalies(walsh_time, walsh_sie, anom_start,anom_end)"
   ]
  },
  {
   "cell_type": "code",
   "execution_count": 7,
   "metadata": {},
   "outputs": [],
   "source": [
    "etcw_start = 1900\n",
    "etcw_end = 1940"
   ]
  },
  {
   "cell_type": "markdown",
   "metadata": {},
   "source": [
    "### Load MPI reconstructions: "
   ]
  },
  {
   "cell_type": "code",
   "execution_count": 8,
   "metadata": {},
   "outputs": [],
   "source": [
    "path = ('/home/disk/p/mkb22/nobackup/LMR_output/reanalysis_reconstruction_data/'+\n",
    "        'annual/Brennan_etal_2019/full_reconstructions/mpi/')\n",
    "\n",
    "chosen_dset = ['CRU']\n",
    "\n",
    "\n",
    "# Includes all experiments within 1 SD of satellite\n",
    "inf_name = ['1_8']\n",
    "loc = [15000]\n",
    "iteration = ['a','b','c','d','e']\n",
    "\n",
    "filenames_mpi = {}\n",
    "name_dict_mpi = {}\n",
    "tot=0\n",
    "           \n",
    "for nit,it in enumerate(iteration):\n",
    "    filenames_mpi[tot] = ('sic_mpi_annual_recon_1850_2018_cru_gis_be_R0_4_10deg_inf'+\n",
    "               inf_name[0]+'_loc'+str(loc[0])+it+'.pkl')\n",
    "\n",
    "    name_dict_mpi[tot] = ('MPI R0.4 inf'+inf_name[0]+' loc'+str(loc[0])+' '+it)\n",
    "    tot = tot+1"
   ]
  },
  {
   "cell_type": "code",
   "execution_count": 9,
   "metadata": {},
   "outputs": [],
   "source": [
    "sia_anom_mpi={}\n",
    "sia_97_5_mpi={}\n",
    "sia_2_5_mpi={}\n",
    "sie_anom_mpi={}\n",
    "sie_97_5_mpi={}\n",
    "sie_2_5_mpi={}\n",
    "recon_years_all_mpi={}\n",
    "sie_ens_full_mpi= {}\n",
    "\n",
    "for n,name in enumerate(name_dict_mpi):\n",
    "    [sia_anom_mpi[name_dict_mpi[n]], \n",
    "     sia_97_5_mpi[name_dict_mpi[n]], \n",
    "     sia_2_5_mpi[name_dict_mpi[n]], \n",
    "     sie_anom_mpi[name_dict_mpi[n]], \n",
    "     sie_97_5_mpi[name_dict_mpi[n]], \n",
    "     sie_2_5_mpi[name_dict_mpi[n]], \n",
    "     recon_years_all_mpi[name_dict_mpi[n]],\n",
    "     sie_ens_full_mpi[name_dict_mpi[n]]] = rrutils.load_recon_sie_95(path+filenames_mpi[n],chosen_dset,\n",
    "                                                                     anom_start,anom_end)"
   ]
  },
  {
   "cell_type": "code",
   "execution_count": 10,
   "metadata": {},
   "outputs": [],
   "source": [
    "for n,name in enumerate(name_dict_mpi):\n",
    "    timei = np.array(recon_years_all_mpi[name_dict_mpi[n]][chosen_dset[0]])\n",
    "\n",
    "    sat_loc = np.where(timei>int(sat_start-1))\n",
    "    etcw_loc = np.where((timei>etcw_start-1)&(timei<etcw_end+1))\n",
    "\n",
    "    sat_hold = sie_ens_full_mpi[name_dict_mpi[n]][chosen_dset[0]][sat_loc[0],:]\n",
    "    etcw_hold = sie_ens_full_mpi[name_dict_mpi[n]][chosen_dset[0]][etcw_loc[0],:]\n",
    "\n",
    "    if n is 0: \n",
    "        sie_ens_full_mpi_sat = np.zeros((sat_hold.shape[0],sat_hold.shape[1],len(iteration)))\n",
    "        sie_ens_full_mpi_etcw = np.zeros((etcw_hold.shape[0],etcw_hold.shape[1],len(iteration)))\n",
    "\n",
    "    sie_ens_full_mpi_sat[:,:,n] = sat_hold\n",
    "    sie_ens_full_mpi_etcw[:,:,n] = etcw_hold"
   ]
  },
  {
   "cell_type": "markdown",
   "metadata": {},
   "source": [
    "### Load CCSM4 reconstructions: "
   ]
  },
  {
   "cell_type": "code",
   "execution_count": 11,
   "metadata": {},
   "outputs": [],
   "source": [
    "path_ccsm4 = ('/home/disk/p/mkb22/nobackup/LMR_output/reanalysis_reconstruction_data/'+\n",
    "              'annual/Brennan_etal_2019/full_reconstructions/ccsm4/')\n",
    "\n",
    "chosen_dset = ['CRU']\n",
    "\n",
    "# Includes all experiments that are withing 1 SD of satellite\n",
    "inf_name = ['2_6']\n",
    "loc = [15000]\n",
    "iteration_ccsm4 = ['a','b','c','d','e']\n",
    "\n",
    "filenames_ccsm4 = {}\n",
    "name_dict_ccsm4 = {}\n",
    "tot=0\n",
    "           \n",
    "for nit,it in enumerate(iteration_ccsm4):\n",
    "    filenames_ccsm4[tot] = ('sic_ccsm4_annual_recon_1850_2018_cru_gis_be_R0_4_10deg_inf'+\n",
    "                            inf_name[0]+'_loc'+str(loc[0])+it+'.pkl')\n",
    "\n",
    "    name_dict_ccsm4[tot] = ('CCSM4 R0.4 inf'+inf_name[0]+' loc'+str(loc[0])+' '+it)\n",
    "    tot = tot+1"
   ]
  },
  {
   "cell_type": "code",
   "execution_count": 12,
   "metadata": {},
   "outputs": [],
   "source": [
    "sia_anom_ccsm4={}\n",
    "sia_97_5_ccsm4={}\n",
    "sia_2_5_ccsm4={}\n",
    "sie_anom_ccsm4={}\n",
    "sie_97_5_ccsm4={}\n",
    "sie_2_5_ccsm4={}\n",
    "recon_years_all_ccsm4={}\n",
    "sie_ens_full_ccsm4= {}\n",
    "\n",
    "for n,name in enumerate(name_dict_ccsm4):\n",
    "    [sia_anom_ccsm4[name_dict_ccsm4[n]], \n",
    "     sia_97_5_ccsm4[name_dict_ccsm4[n]], \n",
    "     sia_2_5_ccsm4[name_dict_ccsm4[n]], \n",
    "     sie_anom_ccsm4[name_dict_ccsm4[n]], \n",
    "     sie_97_5_ccsm4[name_dict_ccsm4[n]], \n",
    "     sie_2_5_ccsm4[name_dict_ccsm4[n]], \n",
    "     recon_years_all_ccsm4[name_dict_ccsm4[n]],\n",
    "     sie_ens_full_ccsm4[name_dict_ccsm4[n]]] = rrutils.load_recon_sie_95(path_ccsm4+filenames_ccsm4[n],\n",
    "                                                                         chosen_dset,anom_start,anom_end)"
   ]
  },
  {
   "cell_type": "code",
   "execution_count": 13,
   "metadata": {},
   "outputs": [],
   "source": [
    "for n,name in enumerate(name_dict_ccsm4):\n",
    "    timei = np.array(recon_years_all_ccsm4[name_dict_ccsm4[n]][chosen_dset[0]])\n",
    "\n",
    "    sat_loc = np.where(timei>sat_start-1)\n",
    "    etcw_loc = np.where((timei>etcw_start-1)&(timei<etcw_end+1))\n",
    "\n",
    "    sat_hold = sie_ens_full_ccsm4[name_dict_ccsm4[n]][chosen_dset[0]][sat_loc[0],:]\n",
    "    etcw_hold = sie_ens_full_ccsm4[name_dict_ccsm4[n]][chosen_dset[0]][etcw_loc[0],:]\n",
    "\n",
    "    if n is 0: \n",
    "        sie_ens_full_ccsm4_sat = np.zeros((sat_hold.shape[0],sat_hold.shape[1],len(iteration_ccsm4)))\n",
    "        sie_ens_full_ccsm4_etcw = np.zeros((etcw_hold.shape[0],etcw_hold.shape[1],len(iteration_ccsm4)))\n",
    "\n",
    "    sie_ens_full_ccsm4_sat[:,:,n] = sat_hold\n",
    "    sie_ens_full_ccsm4_etcw[:,:,n] = etcw_hold"
   ]
  },
  {
   "cell_type": "code",
   "execution_count": 14,
   "metadata": {},
   "outputs": [],
   "source": [
    "cru_start = recon_years_all_ccsm4[name_dict_ccsm4[n]][chosen_dset[0]][0]\n",
    "cru_end = recon_years_all_ccsm4[name_dict_ccsm4[n]][chosen_dset[0]][-1]\n",
    "\n",
    "etcw_time = np.arange(etcw_start,etcw_end+1)\n",
    "recon_sat_time = np.arange(sat_start,cru_end,1)"
   ]
  },
  {
   "cell_type": "code",
   "execution_count": 15,
   "metadata": {},
   "outputs": [],
   "source": [
    "sie_allit_ccsm4_sat = np.reshape(sie_ens_full_ccsm4_sat,(sie_ens_full_ccsm4_sat.shape[0],\n",
    "                                 sie_ens_full_ccsm4_sat.shape[1]*len(iteration_ccsm4)))\n",
    "sie_allit_mpi_sat = np.reshape(sie_ens_full_mpi_sat,(sie_ens_full_mpi_sat.shape[0],\n",
    "                               sie_ens_full_mpi_sat.shape[1]*len(iteration)))\n",
    "\n",
    "sie_allit_ccsm4_etcw = np.reshape(sie_ens_full_ccsm4_etcw,(sie_ens_full_ccsm4_etcw.shape[0],\n",
    "                                 sie_ens_full_ccsm4_etcw.shape[1]*len(iteration_ccsm4)))\n",
    "sie_allit_mpi_etcw = np.reshape(sie_ens_full_mpi_etcw,(sie_ens_full_mpi_etcw.shape[0],\n",
    "                               sie_ens_full_mpi_etcw.shape[1]*len(iteration))) "
   ]
  },
  {
   "cell_type": "markdown",
   "metadata": {},
   "source": [
    "## Multiple endpoints: \n"
   ]
  },
  {
   "cell_type": "markdown",
   "metadata": {},
   "source": [
    "For each of the 6 experiments, I want to calculate the trend using 5 different start/end points. \n"
   ]
  },
  {
   "cell_type": "code",
   "execution_count": 16,
   "metadata": {},
   "outputs": [],
   "source": [
    "length = 25\n",
    "sat_range_start = np.arange(1979,2017-length,1)\n",
    "sat_range_end = np.arange(1979+length,2017,1)\n",
    "\n",
    "start_etcw_range = np.arange(1910,1941-length,1)\n",
    "end_etcw_range = np.arange(1910+length,1941,1)"
   ]
  },
  {
   "cell_type": "code",
   "execution_count": 17,
   "metadata": {},
   "outputs": [],
   "source": [
    "sat_slope_all_endpts = np.zeros(len(sat_range_start))\n",
    "\n",
    "for t,time in enumerate(sat_range_start):\n",
    "    sat_slope_all_endpts[t] = rrutils.find_trend(fet_sie_anom,fet_time,\n",
    "                                                 sat_range_start[t],sat_range_end[t])"
   ]
  },
  {
   "cell_type": "markdown",
   "metadata": {},
   "source": [
    "### Walsh: "
   ]
  },
  {
   "cell_type": "code",
   "execution_count": 18,
   "metadata": {},
   "outputs": [],
   "source": [
    "# ETCW period: \n",
    "slope_exp_rang_walsh_etcw = np.zeros(len(start_etcw_range))\n",
    "\n",
    "for t in range(len(start_etcw_range)):\n",
    "    slope_exp_rang_walsh_etcw[t] = rrutils.find_trend(walsh_sie_anom,walsh_time,\n",
    "                                                      start_etcw_range[t]+8,end_etcw_range[t]+8)\n",
    "    \n",
    "# SATELLITE period \n",
    "slope_exp_rang_walsh_sat = np.zeros(len(sat_range_start))\n",
    "\n",
    "for t in range(len(sat_range_start)):\n",
    "    slope_exp_rang_walsh_sat[t] = rrutils.find_trend(walsh_sie_anom,walsh_time,\n",
    "                                                     sat_range_start[t],sat_range_end[t])"
   ]
  },
  {
   "cell_type": "code",
   "execution_count": 19,
   "metadata": {},
   "outputs": [],
   "source": [
    "# plt.hist(sat_slope_all_endpts)\n",
    "# plt.hist(slope_exp_rang_walsh_sat)\n",
    "# plt.axvline(np.nanmean(sat_slope_all_endpts))"
   ]
  },
  {
   "cell_type": "markdown",
   "metadata": {},
   "source": [
    "### CCSM4: "
   ]
  },
  {
   "cell_type": "code",
   "execution_count": 20,
   "metadata": {},
   "outputs": [],
   "source": [
    "#ETCW\n",
    "slope_exp_rang_ccsm4_etcw = []\n",
    "slope_all_enpts_ccsm4_etcw = {}\n",
    "hold = np.zeros((len(start_etcw_range),))\n",
    "\n",
    "for it in range(len(name_dict_ccsm4)*200):\n",
    "    hold = np.zeros((len(start_etcw_range)))\n",
    "    for t in range(len(start_etcw_range)):\n",
    "        hold[t] = rrutils.find_trend(sie_allit_ccsm4_etcw[:,it],etcw_time,\n",
    "                                     start_etcw_range[t],end_etcw_range[t])\n",
    "    slope_exp_rang_ccsm4_etcw.append(hold)\n",
    "slope_all_enpts_ccsm4_etcw = np.reshape(np.array(slope_exp_rang_ccsm4_etcw),\n",
    "                                        (len(start_etcw_range)*200*len(name_dict_ccsm4)))\n",
    "\n",
    "#Satellite period\n",
    "slope_exp_rang_ccsm4_sat = []\n",
    "slope_all_enpts_ccsm4_sat = {}\n",
    "hold = np.zeros((len(sat_range_start)))\n",
    "\n",
    "for it in range(len(name_dict_ccsm4)*200):\n",
    "    hold = np.zeros((len(sat_range_start)))\n",
    "    for t in range(len(sat_range_start)):\n",
    "        hold[t] = rrutils.find_trend(sie_allit_ccsm4_sat[:,it],recon_sat_time,\n",
    "                                     sat_range_start[t],sat_range_end[t])\n",
    "    slope_exp_rang_ccsm4_sat.append(hold)\n",
    "slope_all_enpts_ccsm4_sat = np.reshape(np.array(slope_exp_rang_ccsm4_sat),\n",
    "                                 (len(sat_range_start)*200*len(name_dict_ccsm4)))"
   ]
  },
  {
   "cell_type": "markdown",
   "metadata": {},
   "source": [
    "### MPI:"
   ]
  },
  {
   "cell_type": "code",
   "execution_count": 21,
   "metadata": {},
   "outputs": [],
   "source": [
    "#ETCW: \n",
    "slope_exp_rang_mpi_etcw = []\n",
    "slope_all_enpts_mpi_etcw = {}\n",
    "hold = np.zeros((len(start_etcw_range)))\n",
    "\n",
    "for it in range(len(name_dict_mpi)*200):\n",
    "    hold = np.zeros((len(start_etcw_range)))\n",
    "    for t in range(len(start_etcw_range)):\n",
    "        hold[t] = rrutils.find_trend(sie_allit_mpi_etcw[:,it],etcw_time,\n",
    "                                     start_etcw_range[t],end_etcw_range[t])\n",
    "    slope_exp_rang_mpi_etcw.append(hold)\n",
    "slope_all_enpts_mpi_etcw = np.reshape(np.array(slope_exp_rang_mpi_etcw),\n",
    "                                      (len(start_etcw_range)*200*len(name_dict_mpi)))\n",
    "\n",
    "#Satellite period\n",
    "slope_exp_rang_mpi_sat = []\n",
    "slope_all_enpts_mpi_sat = {}\n",
    "hold = np.zeros((len(sat_range_start)))\n",
    "\n",
    "for it in range(len(name_dict_mpi)*200):\n",
    "    hold = np.zeros((len(sat_range_start)))\n",
    "    for t in range(len(sat_range_start)):\n",
    "        hold[t] = rrutils.find_trend(sie_allit_mpi_sat[:,it],recon_sat_time,\n",
    "                                     sat_range_start[t],sat_range_end[t])\n",
    "    slope_exp_rang_mpi_sat.append(hold)\n",
    "slope_all_enpts_mpi_sat = np.reshape(np.array(slope_exp_rang_mpi_sat),\n",
    "                                 (len(sat_range_start)*200*len(name_dict_mpi)))"
   ]
  },
  {
   "cell_type": "code",
   "execution_count": 22,
   "metadata": {},
   "outputs": [],
   "source": [
    "def sat_etcw_histogram_leg(slope_all_enpts_etcw,slope_all_enpts_sat,slope_exp_rang_walsh_sat,\n",
    "                           sat_slope_all_endpts,prior,name_dict,COLOR,labels=False):\n",
    "    binwidth=0.002\n",
    "\n",
    "    #plt.figure(figsize=(10,8))\n",
    "\n",
    "    # RECONSTRUCTIONS:-------------------\n",
    "    hist_kwargs = dict(histtype='step',linewidth=2)\n",
    "    \n",
    "    plt.hist(slope_all_enpts_sat,color=COLOR,density=True,\n",
    "             bins=np.arange(min(slope_all_enpts_sat),max(slope_all_enpts_sat) + binwidth, binwidth),\n",
    "             **hist_kwargs)\n",
    "    plt.hist(slope_all_enpts_etcw,facecolor=COLOR,edgecolor=COLOR,\n",
    "             fill=True,density=True,alpha=0.6,\n",
    "             bins=np.arange(min(slope_all_enpts_etcw),max(slope_all_enpts_etcw) + binwidth, binwidth),\n",
    "             **hist_kwargs)\n",
    "\n",
    "    #Walsh data:-----------------------\n",
    "    plt.hist(slope_exp_rang_walsh_sat, color='k', density=False,**hist_kwargs)\n",
    "    plt.hist(slope_exp_rang_walsh_etcw,density=False, facecolor='k',\n",
    "             edgecolor='k', alpha=0.4, fill=True, **hist_kwargs,\n",
    "             bins=np.arange(min(slope_exp_rang_walsh_etcw),\n",
    "                            max(slope_exp_rang_walsh_etcw) + binwidth, binwidth))\n",
    "\n",
    "    #SATELLITE data:-----------------------\n",
    "    plt.hist(sat_slope_all_endpts, color='mediumorchid',density=False,**hist_kwargs)\n",
    "\n",
    "    # LINES: ----------------------------------------------------\n",
    "    ln_kwargs = dict(linestyle='-',linewidth=4)\n",
    "    plt.axvline(np.nanmean(sat_slope_all_endpts),color='m',**ln_kwargs)\n",
    "   # plt.axvline(np.nanmean(sat_slope),color='crimson',**ln_kwargs)\n",
    "    plt.axvline(np.nanmean(slope_exp_rang_walsh_sat),color='k',linestyle='-',linewidth=4)\n",
    "    #plt.axvline(np.nanmean(slope_all_enpts_sat),color=COLOR,**ln_kwargs)\n",
    "    \n",
    "    #plt.axvline(np.nanmean(slope_all_enpts_etcw),linewidth=4,color=COLOR,linestyle='--')\n",
    "    plt.axvline(np.nanmean(slope_exp_rang_walsh_etcw),color='k',linestyle='--',linewidth=3)\n",
    "    \n",
    "    if labels is True:\n",
    "        from matplotlib.patches import Patch\n",
    "        from matplotlib.lines import Line2D\n",
    "        \n",
    "        ds_labels = {'Satellite data \\n (Fetterer etal 2017)':'m','Reconstruction (CCSM4 prior)':'sienna',\n",
    "                     'Reconstruction (MPI prior)':'royalblue','Walsh etal 2017':'k'}\n",
    "        ln_labels = {'Satellite era mean trend':'solid', 'ETCW mean trend':'dashed'}\n",
    "        hist_labels = {'Satellite era trends':'w', 'Early 20th century warming\\n (ETCW) trends':'grey'}\n",
    "        \n",
    "        hist_handles = []\n",
    "        symbol_kwargs = dict(color='grey',linewidth=3)\n",
    "        \n",
    "        for d,ds in enumerate(ds_labels):\n",
    "            hist_handles.append(Patch(color=ds_labels[ds], label=ds))\n",
    "            if d is 3:\n",
    "                hist_handles.append(Line2D([0],[0],color=\"w\"))\n",
    "        for h,hist in enumerate(hist_labels):\n",
    "            hist_handles.append(Patch(facecolor=hist_labels[hist],edgecolor='grey',\n",
    "                                      label=hist, linewidth=2))\n",
    "            if h is 1:\n",
    "                hist_handles.append(Line2D([0],[0],color=\"w\"))\n",
    "        for ln in ln_labels:\n",
    "            hist_handles.append(Line2D([0], [0], marker='_',linestyle=ln_labels[ln],\n",
    "                                label=ln, **symbol_kwargs))\n",
    "#        hist_handles.append(Line2D([0], [0], marker='_',linestyle='-',label=ln, **symbol_kwargs))\n",
    "            \n",
    "        leg = plt.legend(handles=hist_handles, fontsize=16, frameon=False, \n",
    "                         bbox_to_anchor=(1,1)) #loc='upper left')\n",
    "        \n",
    "        for text in leg.get_texts():\n",
    "            if text.get_text() in ds_labels:\n",
    "                text.set_color(ds_labels[text.get_text()])\n",
    "\n",
    "    plt.xticks(np.arange(-0.10,0.01,0.01),fontsize=12)\n",
    "    plt.yticks(fontsize=16)\n",
    "\n",
    "    plt.xlim(-0.1,-0.005)\n",
    "    plt.ylim(0,45)"
   ]
  },
  {
   "cell_type": "code",
   "execution_count": 24,
   "metadata": {},
   "outputs": [
    {
     "name": "stdout",
     "output_type": "stream",
     "text": [
      "MPI: KS stat = 0.474\n",
      "MPI: p-value = 0.0\n"
     ]
    },
    {
     "data": {
      "text/plain": [
       "Ks_2sampResult(statistic=0.47423076923076923, pvalue=0.0)"
      ]
     },
     "execution_count": 24,
     "metadata": {},
     "output_type": "execute_result"
    }
   ],
   "source": [
    "# Kolmogorov-Smirnov 2 sample test for MPI: \n",
    "KS_mpi = stats.ks_2samp(slope_all_enpts_mpi_sat, slope_all_enpts_mpi_etcw)\n",
    "print('MPI: KS stat = '+str(np.round(KS_mpi[0],3)))\n",
    "print('MPI: p-value = '+str(KS_mpi[1]))\n",
    "KS_mpi"
   ]
  },
  {
   "cell_type": "code",
   "execution_count": 25,
   "metadata": {},
   "outputs": [
    {
     "name": "stdout",
     "output_type": "stream",
     "text": [
      "CCSM4: KS stat = 0.46\n",
      "CCSM4: p-value = 0.0\n"
     ]
    },
    {
     "data": {
      "text/plain": [
       "Ks_2sampResult(statistic=0.4603205128205128, pvalue=0.0)"
      ]
     },
     "execution_count": 25,
     "metadata": {},
     "output_type": "execute_result"
    }
   ],
   "source": [
    "# Kolmogorov-Smirnov 2 sample test for CCSM4: \n",
    "KS_ccsm4 = stats.ks_2samp(slope_all_enpts_ccsm4_sat,\n",
    "                          slope_all_enpts_ccsm4_etcw)\n",
    "print('CCSM4: KS stat = '+str(np.round(KS_ccsm4[0],3)))\n",
    "print('CCSM4: p-value = '+str(KS_ccsm4[1]))\n",
    "KS_ccsm4"
   ]
  },
  {
   "cell_type": "code",
   "execution_count": 26,
   "metadata": {},
   "outputs": [
    {
     "data": {
      "text/plain": [
       "97.78333333333333"
      ]
     },
     "execution_count": 26,
     "metadata": {},
     "output_type": "execute_result"
    }
   ],
   "source": [
    "stats.percentileofscore(slope_all_enpts_mpi_etcw, np.nanmean(slope_exp_rang_walsh_etcw))"
   ]
  },
  {
   "cell_type": "code",
   "execution_count": 27,
   "metadata": {},
   "outputs": [
    {
     "data": {
      "text/plain": [
       "98.68333333333334"
      ]
     },
     "execution_count": 27,
     "metadata": {},
     "output_type": "execute_result"
    }
   ],
   "source": [
    "stats.percentileofscore(slope_all_enpts_ccsm4_etcw, np.nanmean(slope_exp_rang_walsh_etcw))"
   ]
  },
  {
   "cell_type": "code",
   "execution_count": 28,
   "metadata": {},
   "outputs": [
    {
     "data": {
      "text/plain": [
       "1.3857845303667287"
      ]
     },
     "execution_count": 28,
     "metadata": {},
     "output_type": "execute_result"
    }
   ],
   "source": [
    "np.nanmean(slope_all_enpts_mpi_sat)/np.nanmean(slope_all_enpts_mpi_etcw)"
   ]
  },
  {
   "cell_type": "code",
   "execution_count": 29,
   "metadata": {},
   "outputs": [
    {
     "data": {
      "text/plain": [
       "1.326900747486661"
      ]
     },
     "execution_count": 29,
     "metadata": {},
     "output_type": "execute_result"
    }
   ],
   "source": [
    "np.nanmean(slope_all_enpts_ccsm4_sat)/np.nanmean(slope_all_enpts_ccsm4_etcw)"
   ]
  },
  {
   "cell_type": "code",
   "execution_count": 30,
   "metadata": {},
   "outputs": [
    {
     "data": {
      "text/plain": [
       "1.3803598478692518"
      ]
     },
     "execution_count": 30,
     "metadata": {},
     "output_type": "execute_result"
    }
   ],
   "source": [
    "np.median(slope_all_enpts_mpi_sat)/np.median(slope_all_enpts_mpi_etcw)"
   ]
  },
  {
   "cell_type": "code",
   "execution_count": 31,
   "metadata": {},
   "outputs": [
    {
     "data": {
      "text/plain": [
       "1.3262744169318739"
      ]
     },
     "execution_count": 31,
     "metadata": {},
     "output_type": "execute_result"
    }
   ],
   "source": [
    "np.median(slope_all_enpts_ccsm4_sat)/np.median(slope_all_enpts_ccsm4_etcw)"
   ]
  },
  {
   "cell_type": "code",
   "execution_count": 33,
   "metadata": {},
   "outputs": [],
   "source": [
    "bplot_data = [slope_exp_rang_walsh_etcw,slope_exp_rang_walsh_sat,sat_slope_all_endpts]\n",
    "#plt.boxplot(bplot_data)"
   ]
  },
  {
   "cell_type": "code",
   "execution_count": 39,
   "metadata": {},
   "outputs": [
    {
     "data": {
      "text/plain": [
       "Text(0.5,1,'25 year trends in total Arctic sea-ice extent')"
      ]
     },
     "execution_count": 39,
     "metadata": {},
     "output_type": "execute_result"
    },
    {
     "data": {
      "image/png": "[encoded data removed]",
      "text/plain": [
       "<Figure size 792x648 with 2 Axes>"
      ]
     },
     "metadata": {},
     "output_type": "display_data"
    }
   ],
   "source": [
    "fig, (ax_hist,ax_box) = plt.subplots(2, sharex=True, figsize=(11,9),\n",
    "                                    gridspec_kw={\"height_ratios\": (.87,.13)})\n",
    "binwidth=0.002\n",
    "\n",
    "ax_box.spines['top'].set_visible(False)\n",
    "#ax_box.spines['right'].set_visible(False)\n",
    "ax_box.spines['left'].set_visible(False)\n",
    "#ax_box.spines['bottom'].set_visible(False)\n",
    "#ax_hist.spines['top'].set_visible(False)\n",
    "\n",
    "bplot_data = [slope_exp_rang_walsh_etcw,slope_exp_rang_walsh_sat,sat_slope_all_endpts]\n",
    "\n",
    "medianprops = {'color': 'gray', 'linewidth': 2}\n",
    "boxprops = {'color': 'gray', 'linestyle': '-', 'linewidth':2}\n",
    "whiskerprops = {'color': 'gray', 'linestyle': '-','linewidth':2}\n",
    "capprops = {'color': 'gray', 'linestyle': '-','linewidth':2}\n",
    "flierprops = {'color': 'grey', 'marker': 'x','linewidth':2}\n",
    "\n",
    "box = ax_box.boxplot(bplot_data, vert=False,widths=0.6,patch_artist=True,\n",
    "                    medianprops=medianprops,boxprops=boxprops,whiskerprops=whiskerprops,\n",
    "                    capprops=capprops,flierprops=flierprops)\n",
    "ax_box.set_yticklabels(['Walsh etal 2017 - ETCW',\n",
    "                        'Walsh etal 2017 - satellite era',\n",
    "                        'Satellite data (Fetterer etal 2017)'], fontsize=14)\n",
    "\n",
    "colors = ['k','w','crimson']\n",
    "colorse = ['k','k','crimson']\n",
    "\n",
    "for patch, c in zip(box['boxes'],enumerate(colors)):\n",
    "    patch.set_facecolor(colors[c[0]])\n",
    "    patch.set_edgecolor(colorse[c[0]])\n",
    "    #medianprops = {'color': 'magenta', 'linewidth': 2}\n",
    "\n",
    "hist_kwargs = dict(histtype='step',linewidth=3)\n",
    "\n",
    "\n",
    "ax_hist.hist(slope_all_enpts_mpi_etcw,facecolor='royalblue',edgecolor='royalblue',\n",
    "             fill=True,density=True,alpha=0.6,\n",
    "             bins=np.arange(min(slope_all_enpts_mpi_etcw),max(slope_all_enpts_mpi_etcw) + binwidth, binwidth),\n",
    "             **hist_kwargs)\n",
    "ax_hist.hist(slope_all_enpts_ccsm4_etcw,facecolor='sienna',edgecolor='sienna',\n",
    "             fill=True,density=True,alpha=0.5,\n",
    "             bins=np.arange(min(slope_all_enpts_ccsm4_etcw),max(slope_all_enpts_ccsm4_etcw) + binwidth, binwidth),\n",
    "             **hist_kwargs)\n",
    "\n",
    "ax_hist.hist(slope_all_enpts_ccsm4_sat,color='sienna',density=True,\n",
    "             bins=np.arange(min(slope_all_enpts_ccsm4_sat),max(slope_all_enpts_ccsm4_sat) + binwidth, binwidth),\n",
    "             **hist_kwargs)\n",
    "ax_hist.hist(slope_all_enpts_mpi_sat,color='royalblue',density=True,\n",
    "             bins=np.arange(min(slope_all_enpts_mpi_sat),max(slope_all_enpts_mpi_sat) + binwidth, binwidth),\n",
    "             **hist_kwargs)\n",
    "plt.yticks(fontsize=14)\n",
    "\n",
    "\n",
    "# plt.xticks(fontsize=14)\n",
    "# plt.yticks(fontsize=14)\n",
    "\n",
    "ax_box.yaxis.tick_right()\n",
    "ax_box.set_xlabel('Trend (10$^6$ $km^2$/yr)',fontsize=14)\n",
    "ax_box.tick_params(axis='both', which='major', labelsize=14)\n",
    "\n",
    "ax_hist.set_xticks(np.arange(-0.10,0.01,0.01))\n",
    "ax_hist.set_ylabel('Probablility Density',fontsize=14)\n",
    "ax_hist.tick_params(axis='both', which='major', labelsize=14)\n",
    "\n",
    "plt.xlim(-0.1,-0.005)\n",
    "ax_hist.set_ylim(0,43)\n",
    "ax_box.set_ylim(0.5,3.6)\n",
    "\n",
    "text_colors = ['k','gray','crimson']\n",
    "for ytick, color in zip(ax_box.get_yticklabels(), text_colors):\n",
    "    ytick.set_color(color)\n",
    "\n",
    "ax_box.grid(axis='y',linestyle='--')\n",
    "\n",
    "labels=True\n",
    "if labels is True:\n",
    "    from matplotlib.patches import Patch\n",
    "    from matplotlib.lines import Line2D\n",
    "\n",
    "    ds_labels = {'Reconstruction (CCSM4 prior)':'sienna',\n",
    "                 'Reconstruction (MPI prior)':'royalblue'}\n",
    "    #ln_labels = {'Satellite era mean trend':'solid', 'ETCW mean trend':'dashed'}\n",
    "    #hist_labels = {'Satellite era trends':'w', 'Early 20th century warming\\n (ETCW) trends':'grey'}\n",
    "\n",
    "    hist_handles = []\n",
    "    symbol_kwargs = dict(color='grey',linewidth=3)\n",
    "\n",
    "    for d,ds in enumerate(ds_labels):\n",
    "        hist_handles.append(Patch(color=ds_labels[ds], label=ds))\n",
    "        if d is 1:\n",
    "            hist_handles.append(Line2D([0],[0],color=\"w\"))\n",
    "#     for h,hist in enumerate(hist_labels):\n",
    "#         hist_handles.append(Patch(facecolor=hist_labels[hist],edgecolor='grey',\n",
    "#                                   label=hist, linewidth=2))\n",
    "#         if h is 1:\n",
    "#             hist_handles.append(Line2D([0],[0],color=\"w\"))\n",
    "#     for ln in ln_labels:\n",
    "#         hist_handles.append(Line2D([0], [0], marker='_',linestyle=ln_labels[ln],\n",
    "#                             label=ln, **symbol_kwargs))\n",
    "#        hist_handles.append(Line2D([0], [0], marker='_',linestyle='-',label=ln, **symbol_kwargs))\n",
    "\n",
    "    leg = ax_hist.legend(handles=hist_handles, fontsize=14, frameon=False, \n",
    "                     bbox_to_anchor=(1,0.14)) #loc='upper left')\n",
    "\n",
    "    for text in leg.get_texts():\n",
    "        if text.get_text() in ds_labels:\n",
    "            text.set_color(ds_labels[text.get_text()])\n",
    "            \n",
    "sat_label = ('Satellite era \\n      trends')\n",
    "etcw_label = ('Early 20th-century \\n  warming trends')\n",
    "            \n",
    "plt.gcf().text(0.315, 0.53, sat_label , fontsize=13,color='gray')\n",
    "plt.gcf().text(0.72, 0.655, etcw_label ,fontsize=13,color='gray')\n",
    "\n",
    "plt.subplots_adjust(wspace=0, hspace=0.015)\n",
    "ax_hist.set_title('25 year trends in total Arctic sea-ice extent', fontsize=16)"
   ]
  },
  {
   "cell_type": "code",
   "execution_count": 460,
   "metadata": {},
   "outputs": [
    {
     "data": {
      "text/plain": [
       "98.16666666666667"
      ]
     },
     "execution_count": 460,
     "metadata": {},
     "output_type": "execute_result"
    }
   ],
   "source": [
    "stats.percentileofscore(slope_all_enpts_mpi_etcw, np.median(slope_exp_rang_walsh_etcw))"
   ]
  },
  {
   "cell_type": "code",
   "execution_count": 461,
   "metadata": {},
   "outputs": [
    {
     "data": {
      "text/plain": [
       "98.85"
      ]
     },
     "execution_count": 461,
     "metadata": {},
     "output_type": "execute_result"
    }
   ],
   "source": [
    "stats.percentileofscore(slope_all_enpts_ccsm4_etcw, np.median(slope_exp_rang_walsh_etcw))"
   ]
  },
  {
   "cell_type": "code",
   "execution_count": 463,
   "metadata": {},
   "outputs": [
    {
     "data": {
      "text/plain": [
       "(2.151936563338267, 1.9940167929427846)"
      ]
     },
     "execution_count": 463,
     "metadata": {},
     "output_type": "execute_result"
    }
   ],
   "source": [
    "np.median(slope_all_enpts_ccsm4_etcw)/np.median(slope_exp_rang_walsh_etcw), np.median(slope_all_enpts_mpi_etcw)/np.median(slope_exp_rang_walsh_etcw)"
   ]
  },
  {
   "cell_type": "code",
   "execution_count": 459,
   "metadata": {},
   "outputs": [
    {
     "data": {
      "text/plain": [
       "(-0.01834589340577249, -0.01879268416922781)"
      ]
     },
     "execution_count": 459,
     "metadata": {},
     "output_type": "execute_result"
    }
   ],
   "source": [
    "np.median(slope_exp_rang_walsh_etcw),np.mean(slope_exp_rang_walsh_etcw)"
   ]
  },
  {
   "cell_type": "code",
   "execution_count": null,
   "metadata": {},
   "outputs": [],
   "source": []
  },
  {
   "cell_type": "code",
   "execution_count": null,
   "metadata": {},
   "outputs": [],
   "source": []
  }
 ],
 "metadata": {
  "kernelspec": {
   "display_name": "Python 3",
   "language": "python",
   "name": "python3"
  },
  "language_info": {
   "codemirror_mode": {
    "name": "ipython",
    "version": 3
   },
   "file_extension": ".py",
   "mimetype": "text/x-python",
   "name": "python",
   "nbconvert_exporter": "python",
   "pygments_lexer": "ipython3",
   "version": "3.6.6"
  }
 },
 "nbformat": 4,
 "nbformat_minor": 2
}

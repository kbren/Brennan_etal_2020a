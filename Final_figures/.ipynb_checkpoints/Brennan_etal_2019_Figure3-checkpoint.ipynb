{
 "cells": [
  {
   "cell_type": "markdown",
   "metadata": {},
   "source": [
    "# Brennan etal 2019 - Figure 3\n",
    "\n",
    "Katie Brennan  \n",
    "November 2019  \n",
    "  \n",
    "Figure shows the reconstruction of Arctic sea ice exten with satellite and walsh et al 2017 data. \n",
    "\n",
    "Figure 3 shows the LMR reconstruction compared with the Walsh etal 2017 and satellite (Fetterer et al 2017) data for total Arctic sea ice extent with the slope of the decline in the satellite and Early 20th Century Warming periods. "
   ]
  },
  {
   "cell_type": "code",
   "execution_count": 1,
   "metadata": {},
   "outputs": [],
   "source": [
    "import numpy as np \n",
    "import pickle\n",
    "import matplotlib.pyplot as plt\n",
    "# import scipy.signal as spy\n",
    "# import scipy.stats as stats\n",
    "# import LMR_lite_utils as LMRlite\n",
    "# import LMR_config_greg\n",
    "import sys,os\n",
    "plt.rcParams['figure.dpi']=150"
   ]
  },
  {
   "cell_type": "code",
   "execution_count": 2,
   "metadata": {},
   "outputs": [
    {
     "name": "stdout",
     "output_type": "stream",
     "text": [
      "Loading information from datasets.yml\n",
      "Loading information from grid_def.yml\n",
      "Loading information from datasets.yml\n",
      "Loading information from grid_def.yml\n"
     ]
    }
   ],
   "source": [
    "sys.path.insert(1,'/home/disk/p/mkb22/Documents/si_utils_kb/')\n",
    "import Sice_utils as si_utils\n",
    "\n",
    "sys.path.insert(2,'/home/disk/kalman2/mkb22/pyLMR/')\n",
    "import LMR_utils \n",
    "\n",
    "sys.path.insert(3,'/home/disk/p/mkb22/Documents/si_analysis_kb/instrumental_assimilation_experiments/')\n",
    "import reanalysis_recons_utils as rrutils"
   ]
  },
  {
   "cell_type": "code",
   "execution_count": 3,
   "metadata": {},
   "outputs": [
    {
     "data": {
      "text/plain": [
       "<module 'reanalysis_recons_utils' from '/home/disk/p/mkb22/Documents/si_analysis_kb/instrumental_assimilation_experiments/reanalysis_recons_utils.py'>"
      ]
     },
     "execution_count": 3,
     "metadata": {},
     "output_type": "execute_result"
    }
   ],
   "source": [
    "import importlib\n",
    "# #importlib.reload(LMRlite)\n",
    "# #importlib.reload(LMR_config)\n",
    "# importlib.reload(LMRlite)\n",
    "importlib.reload(rrutils)"
   ]
  },
  {
   "cell_type": "code",
   "execution_count": 4,
   "metadata": {},
   "outputs": [],
   "source": [
    "anom_start = 1979\n",
    "anom_end = 2013\n",
    "\n",
    "# NH surface area in M km^2 from concentration in percentage\n",
    "nharea = 2*np.pi*(6380**2)/1e8"
   ]
  },
  {
   "cell_type": "markdown",
   "metadata": {},
   "source": [
    "## Load Walsh and satellite data:"
   ]
  },
  {
   "cell_type": "code",
   "execution_count": 5,
   "metadata": {},
   "outputs": [],
   "source": [
    "# LOAD ANNUAL SATELLITE DATA: \n",
    "[fet_sia_anom, fet_sie_anom, fet_time] = rrutils.load_annual_satellite_anom(anom_end)\n",
    "[fet_sia, fet_sie, fet_time2] = rrutils.load_annual_satellite()"
   ]
  },
  {
   "cell_type": "code",
   "execution_count": 6,
   "metadata": {},
   "outputs": [],
   "source": [
    "# LOAD ANNUAL WALSH DATA: \n",
    "[walsh_sia, walsh_sie, walsh_time] = rrutils.load_annual_walsh()\n",
    "\n",
    "walsh_sia_anom = rrutils.find_anomalies(walsh_time, walsh_sia, anom_start,anom_end)\n",
    "walsh_sie_anom = rrutils.find_anomalies(walsh_time, walsh_sie, anom_start,anom_end)"
   ]
  },
  {
   "cell_type": "markdown",
   "metadata": {},
   "source": [
    "## Load reconstructions: "
   ]
  },
  {
   "cell_type": "code",
   "execution_count": 7,
   "metadata": {},
   "outputs": [],
   "source": [
    "path = ('/home/disk/p/mkb22/nobackup/LMR_output/reanalysis_reconstruction_data/'+\n",
    "        'annual/Brennan_etal_2019/full_reconstructions/mpi/')\n",
    "\n",
    "chosen_dset = ['CRU']\n",
    "\n",
    "inf_name = ['1_8']\n",
    "loc = [15000]\n",
    "iteration = ['a','b','c','d','e']\n",
    "\n",
    "name = {}\n",
    "name_dict = {}\n",
    "tot=0\n",
    "           \n",
    "# for ninf in range(len(inf_name)):\n",
    "#     for nloc in range(len(loc)):\n",
    "for it in iteration:\n",
    "    name[tot] = ('sic_mpi_annual_recon_1850_2018_cru_gis_be_R0_4_10deg_inf'+\n",
    "               inf_name[0]+'_loc'+str(loc[0])+it+'.pkl')\n",
    "\n",
    "    name_dict[tot] = ('MPI R0.4 inf'+inf_name[0]+' loc'+str(loc[0])+' '+it)\n",
    "    tot = tot+1"
   ]
  },
  {
   "cell_type": "code",
   "execution_count": 8,
   "metadata": {},
   "outputs": [],
   "source": [
    "sia_anom={}\n",
    "sia_97_5={}\n",
    "sia_2_5={}\n",
    "sie_anom={}\n",
    "sie_97_5={}\n",
    "sie_2_5={}\n",
    "recon_years_all={}\n",
    "sie_full_ens = {}\n",
    "\n",
    "for i in range(len(name_dict)):\n",
    "    [sia_anom[name_dict[i]], \n",
    "     sia_97_5[name_dict[i]], \n",
    "     sia_2_5[name_dict[i]], \n",
    "     sie_anom[name_dict[i]], \n",
    "     sie_97_5[name_dict[i]], \n",
    "     sie_2_5[name_dict[i]], \n",
    "     recon_years_all[name_dict[i]],\n",
    "     sie_full_ens[name_dict[i]]] = rrutils.load_recon_sie_95(path+name[i],chosen_dset,\n",
    "                                                             anom_start,anom_end,full=True)"
   ]
  },
  {
   "cell_type": "code",
   "execution_count": 9,
   "metadata": {},
   "outputs": [],
   "source": [
    "sie_allit_fullens = sie_full_ens[name_dict[0]]['CRU']\n",
    "\n",
    "for i in range(len(iteration)):\n",
    "    if i is 0: \n",
    "        sie_allit_fullens = sie_full_ens[name_dict[0]]['CRU']\n",
    "    else:\n",
    "        sie_allit_fullens = np.concatenate((sie_allit_fullens,\n",
    "                                            sie_full_ens[name_dict[i]]['CRU']),axis=1)\n",
    "\n",
    "sie_allit_fullens_anom = np.zeros(sie_allit_fullens.shape)\n",
    "for i in range(sie_allit_fullens.shape[1]):\n",
    "    sie_allit_fullens_anom[:,i] = rrutils.find_anomalies(np.array(recon_years_all[name_dict[0]]['CRU']),\n",
    "                                                         sie_allit_fullens[:,i],anom_start,anom_end)"
   ]
  },
  {
   "cell_type": "code",
   "execution_count": 10,
   "metadata": {},
   "outputs": [],
   "source": [
    "#plt.plot(sie_allit_fullens_anom);"
   ]
  },
  {
   "cell_type": "markdown",
   "metadata": {},
   "source": [
    "### Calculate mean and spread across all iterations: "
   ]
  },
  {
   "cell_type": "code",
   "execution_count": 11,
   "metadata": {},
   "outputs": [],
   "source": [
    "sie_97_5_full_anom = np.percentile(sie_allit_fullens_anom,97.5,axis=1)\n",
    "sie_2_5_full_anom = np.percentile(sie_allit_fullens_anom,2.5,axis=1)\n",
    "\n",
    "sie_full_mean_anom = np.nanmean(sie_allit_fullens_anom,axis=1)"
   ]
  },
  {
   "cell_type": "markdown",
   "metadata": {},
   "source": [
    "## Calculate statistics: "
   ]
  },
  {
   "cell_type": "code",
   "execution_count": 12,
   "metadata": {},
   "outputs": [],
   "source": [
    "stat_start = 1979\n",
    "stat_end=2017\n",
    "\n",
    "ce_cru_sie = {}\n",
    "corr_cru_sie = {}\n",
    "var_cru_sie = {}\n",
    "\n",
    "ce_cru_sie_dt = {}\n",
    "corr_cru_sie_dt = {}\n",
    "var_cru_sie_dt = {}\n",
    "\n",
    "slope_cru_sie = {}\n",
    "\n",
    "slope_cru_sie_sat = []\n",
    "slope_cru_sie_etcw = []\n",
    "\n",
    "allit = 'mean all iterations'\n",
    "\n",
    "[ce_cru_sie[allit], \n",
    " corr_cru_sie[allit],\n",
    " var_cru_sie['sat'], \n",
    " var_cru_sie[allit]] = rrutils.find_ce_corr(sie_full_mean_anom, \n",
    "                                           fet_sie_anom,\n",
    "                                           fet_time,\n",
    "                                           np.array(recon_years_all[name_dict[0]]['CRU']),\n",
    "                                           stat_start,stat_end)\n",
    "\n",
    "[ce_cru_sie_dt[allit], \n",
    " corr_cru_sie_dt[allit],\n",
    " var_cru_sie_dt['sat'], \n",
    " var_cru_sie_dt[allit]] = rrutils.find_ce_corr(sie_full_mean_anom, \n",
    "                                                fet_sie_anom,\n",
    "                                               fet_time,\n",
    "                                               np.array(recon_years_all[name_dict[0]]['CRU']),\n",
    "                                               stat_start,stat_end,detrend=True)\n",
    "\n",
    "for i in range(sie_allit_fullens_anom.shape[1]):\n",
    "    slope_cru_sie_oneit = rrutils.find_trend(sie_allit_fullens_anom[:,i],\n",
    "                                             np.array(recon_years_all[name_dict[0]]['CRU']),\n",
    "                                             stat_start,stat_end)\n",
    "\n",
    "    slope_cru_sie_oneit_etcw = rrutils.find_trend(sie_allit_fullens_anom[:,i],\n",
    "                                                  np.array(recon_years_all[name_dict[0]]['CRU']),\n",
    "                                                  1912,1937)\n",
    "\n",
    "    slope_cru_sie_sat = np.append(slope_cru_sie_sat,slope_cru_sie_oneit)\n",
    "    slope_cru_sie_etcw = np.append(slope_cru_sie_etcw,slope_cru_sie_oneit_etcw)\n",
    "        \n",
    "slope_cru_sie[allit] = slope_cru_sie_sat\n",
    "slope_cru_sie['etcw all iterations'] = slope_cru_sie_etcw\n",
    "\n",
    "sat_slope = rrutils.find_trend(fet_sie, fet_time, anom_start,2017)\n",
    "walsh_etcw_slope = rrutils.find_trend(walsh_sie_anom, walsh_time, 1912,1937)"
   ]
  },
  {
   "cell_type": "code",
   "execution_count": 13,
   "metadata": {},
   "outputs": [
    {
     "data": {
      "text/plain": [
       "(-0.051693797719258104, 1979, 2017)"
      ]
     },
     "execution_count": 13,
     "metadata": {},
     "output_type": "execute_result"
    }
   ],
   "source": [
    "slope_of_mn = rrutils.find_trend(sie_full_mean_anom,\n",
    "                                         np.array(recon_years_all[name_dict[0]]['CRU']),\n",
    "                                         stat_start,stat_end)\n",
    "slope_of_mn, stat_start, stat_end"
   ]
  },
  {
   "cell_type": "code",
   "execution_count": 14,
   "metadata": {},
   "outputs": [],
   "source": [
    "#print('MPI inf='+inf_name[0]+', loc= '+str(loc[0])+': slope = '+str(np.round(np.nanmean(slope_cru_sie_sat),3)))"
   ]
  },
  {
   "cell_type": "code",
   "execution_count": 17,
   "metadata": {},
   "outputs": [
    {
     "data": {
      "text/plain": [
       "(array([-2.5, -2. , -1.5, -1. , -0.5,  0. ,  0.5,  1. ,  1.5,  2. ,  2.5]),\n",
       " <a list of 11 Text yticklabel objects>)"
      ]
     },
     "execution_count": 17,
     "metadata": {},
     "output_type": "execute_result"
    },
    {
     "data": {
      "image/png": "[encoded data removed]",
      "text/plain": [
       "<Figure size 720x432 with 1 Axes>"
      ]
     },
     "metadata": {
      "needs_background": "light"
     },
     "output_type": "display_data"
    }
   ],
   "source": [
    "# PLOT ALL CRU RECONSTRUCTIONS WITH BEST INFLATION FACTOR:\n",
    "inf_loc_mn = 1\n",
    "\n",
    "plt.figure(figsize=(10,6))\n",
    "  \n",
    "plt.plot(recon_years_all[name_dict[0]]['CRU'], sie_full_mean_anom ,\n",
    "         color= 'royalblue', label='Reconstruction- MPI, HadCRUT4', \n",
    "         linewidth=2.5)\n",
    "\n",
    "plt.plot(walsh_time,walsh_sie_anom, color='k', label='Walsh et al 2017', linewidth=2)\n",
    "plt.plot(fet_time,fet_sie_anom, color='crimson', label='Satellite (Fetterer et al 2017)', linewidth=3)\n",
    "\n",
    "plt.fill_between(recon_years_all[name_dict[0]]['CRU'],\n",
    "                 sie_2_5_full_anom,sie_97_5_full_anom,color='royalblue',alpha=0.2)\n",
    "\n",
    "title_text = ('Satellite Era (1979-2017) Statistics:')\n",
    "var_dt_sat = ('(Detrended variance satellite)  = ' + \n",
    "                 '{:,.3f}'.format(var_cru_sie_dt['sat']))\n",
    "trend_sat = ('Observed trend = ' + \n",
    "                '{:,.3f}'.format(sat_slope))\n",
    "corr_dt_plt = ('Detrended R$^{2}$ = ' + \n",
    "                          '{:,.2f}'.format(corr_cru_sie_dt[allit]**2))\n",
    "trend_plt = ('DA trend  = ' + \n",
    "             '{:,.3f}'.format(np.nanmean(slope_cru_sie[allit]))+\n",
    "             ' $\\pm$ '+'{:,.3f}'.format(np.std(slope_cru_sie[allit])*2))\n",
    "corr_plt = ('R$^{2}$ = ' + '{:,.2f}'.format(corr_cru_sie[allit]**2))\n",
    "ce_plt = ('CE = ' + '{:,.2f}'.format(ce_cru_sie[allit]))\n",
    "ce_corr_plt = (('(Satellite, DA reconstruction): R$^{2}$ = ' + '{:,.2f}'.format(corr_cru_sie[allit]**2))+\n",
    "               ', CE = '+'{:,.2f}'.format(ce_cru_sie[allit]))\n",
    "\n",
    "plt.gcf().text(0.14, 0.14, ce_corr_plt , fontsize=13,color='k')\n",
    "\n",
    "plt.title('Annual total Arctic sea ice extent', fontsize=16)\n",
    "plt.ylim(-2.1,2.1)\n",
    "plt.xlim(1849,2019)\n",
    "\n",
    "leg = plt.legend(fontsize=13, framealpha=1.0,frameon=False, bbox_to_anchor=(0.47, 0.28))\n",
    "for t,text in enumerate(leg.get_texts()):\n",
    "    if t < 4:\n",
    "        plt.setp(text, color = 'k')\n",
    "    elif t is 3:\n",
    "        plt.setp(text, color = 'crimson')\n",
    "    else: \n",
    "        plt.setp(text, color = 'royalblue')\n",
    "        \n",
    "plt.axhline(0,color='gray',linestyle='--',linewidth=1)\n",
    "\n",
    "# plt.xlim(1970,2020)\n",
    "plt.ylabel('Sea ice extent anomalies (10$^{6}$ $km^2$)',fontsize=14)\n",
    "plt.xticks(np.arange(1850,2021,20),fontsize=14)\n",
    "#plt.xticks(np.arange(1975,2021,5),fontsize=14)\n",
    "plt.yticks(fontsize=12)\n",
    "\n",
    "# plt.axvline(1940)\n",
    "# plt.axvline(1935)\n",
    "# plt.axvline(1945)\n",
    "#plt.axvline(1953, linestyle='--', color='c',linewidth=3)\n",
    "\n",
    "#plt.xlim(1975,2020)\n",
    "\n",
    "# savedir = '/home/disk/p/mkb22/Documents/graphs/Brennan_etal_2019/'\n",
    "# savename = 'recon_mpi_hadcrut_1850_2017_walsh_sat4.png'\n",
    "# plt.savefig(savedir+savename)"
   ]
  },
  {
   "cell_type": "code",
   "execution_count": 26,
   "metadata": {},
   "outputs": [
    {
     "data": {
      "text/plain": [
       "(2.2916666666666696,\n",
       " 1.7227022165091541,\n",
       " 1.3302744053528024,\n",
       " 0.5258865931508945)"
      ]
     },
     "execution_count": 26,
     "metadata": {},
     "output_type": "execute_result"
    }
   ],
   "source": [
    "sat_loss = fet_sie_anom.max()-fet_sie_anom.min()\n",
    "etcw_loss = sie_full_mean_anom[np.array(recon_years_all[name_dict[0]]['CRU'])>1900].max() - sie_full_mean_anom[np.array(recon_years_all[name_dict[0]]['CRU'])<1970].min()\n",
    "walsh_min = walsh_sie_anom[walsh_time<1970].min()\n",
    "\n",
    "(sat_loss, etcw_loss, sat_loss/etcw_loss, \n",
    " walsh_min-sie_full_mean_anom[np.array(recon_years_all[name_dict[0]]['CRU'])<1970].min())"
   ]
  },
  {
   "cell_type": "code",
   "execution_count": 177,
   "metadata": {},
   "outputs": [],
   "source": [
    "sat_startr = fet_sie_anom[(fet_time<1984)]\n",
    "sat_endr = fet_sie_anom[(fet_time>2012)]\n",
    "etcw_startr = sie_full_mean_anom[(np.array(recon_years_all[name_dict[0]]['CRU'])>1910)&(np.array(recon_years_all[name_dict[0]]['CRU'])<1915)] \n",
    "etcw_endr = sie_full_mean_anom[(np.array(recon_years_all[name_dict[0]]['CRU'])>1935)&(np.array(recon_years_all[name_dict[0]]['CRU'])<1940)] \n",
    "\n",
    "sat_start = (sat_startr.max()+sat_startr.min())/2\n",
    "sat_end = (sat_endr.max()+sat_endr.min())/2\n",
    "etcw_start = (etcw_startr.max()+etcw_startr.min())/2\n",
    "etcw_end = (etcw_endr.max()+etcw_endr.min())/2"
   ]
  },
  {
   "cell_type": "code",
   "execution_count": 182,
   "metadata": {},
   "outputs": [
    {
     "data": {
      "text/plain": [
       "(1.7595833333333344,\n",
       " 1.0873564342713498,\n",
       " 1.1607243495970254,\n",
       " 0.07336791532567571)"
      ]
     },
     "execution_count": 182,
     "metadata": {},
     "output_type": "execute_result"
    }
   ],
   "source": [
    "sat_start - sat_end, etcw_start - etcw_end, etcw_start, etcw_end"
   ]
  },
  {
   "cell_type": "code",
   "execution_count": 160,
   "metadata": {},
   "outputs": [
    {
     "data": {
      "text/plain": [
       "(1.104394925220486, -0.25854480813597025)"
      ]
     },
     "execution_count": 160,
     "metadata": {},
     "output_type": "execute_result"
    }
   ],
   "source": [
    "sie_full_mean_anom[(np.array(recon_years_all[name_dict[0]]['CRU'])>1930)&(np.array(recon_years_all[name_dict[0]]['CRU'])<1970)].max(),sie_full_mean_anom[np.array(recon_years_all[name_dict[0]]['CRU'])<1970].min()"
   ]
  },
  {
   "cell_type": "code",
   "execution_count": 129,
   "metadata": {},
   "outputs": [],
   "source": [
    "etcw_loss = sie_full_mean_anom.max() - sie_full_mean_anom[np.array(recon_years_all[name_dict[0]]['CRU'])<1970].min(),"
   ]
  },
  {
   "cell_type": "code",
   "execution_count": 145,
   "metadata": {},
   "outputs": [
    {
     "name": "stdout",
     "output_type": "stream",
     "text": [
      "Satellite Era (1979-2017) Statistics:\n",
      "(Detrended variance satellite)  = 0.046\n",
      "Detrended StDev recon = 0.279\n",
      "Detrended StDev sat = 0.214\n",
      "Observed trend = -0.055\n",
      "DA trend  = -0.052 $\\pm$ 0.012\n",
      "Detrended R$^{2}$ = 0.43\n",
      "R$^{2}$ = 0.89\n",
      "CE = 0.89\n",
      "(Satellite, DA reconstruction): R$^{2}$ = 0.89, CE = 0.89\n"
     ]
    }
   ],
   "source": [
    "print(title_text) \n",
    "print(var_dt_sat)\n",
    "print('Detrended StDev recon = ' + '{:,.3f}'.format(np.sqrt(var_cru_sie_dt[allit])))\n",
    "print('Detrended StDev sat = ' + '{:,.3f}'.format(np.sqrt(var_cru_sie_dt['sat'])))\n",
    "print(trend_sat) \n",
    "print(trend_plt)\n",
    "print(corr_dt_plt)\n",
    "print(corr_plt)\n",
    "print(ce_plt)\n",
    "print(ce_corr_plt)"
   ]
  },
  {
   "cell_type": "code",
   "execution_count": 148,
   "metadata": {},
   "outputs": [
    {
     "data": {
      "text/plain": [
       "(0.04596345382163757, 0.0780752588830403)"
      ]
     },
     "execution_count": 148,
     "metadata": {},
     "output_type": "execute_result"
    }
   ],
   "source": [
    "var_cru_sie_dt['sat'],var_cru_sie_dt[allit]"
   ]
  },
  {
   "cell_type": "code",
   "execution_count": 117,
   "metadata": {},
   "outputs": [
    {
     "name": "stdout",
     "output_type": "stream",
     "text": [
      "Standard Deviation 1850-1970:\n",
      "DA recon = 316560.0\n",
      "Walsh = 219640.0\n"
     ]
    },
    {
     "data": {
      "text/plain": [
       "1.441261273446432"
      ]
     },
     "execution_count": 117,
     "metadata": {},
     "output_type": "execute_result"
    }
   ],
   "source": [
    "da_std_1850_1970  = np.std(sie_full_mean_anom[np.where(np.array(recon_years_all[name_dict[0]]['CRU'])<1971)])\n",
    "walsh_std_1850_1970 = np.std(walsh_sie_anom[np.where(walsh_time<1971)])\n",
    "\n",
    "print('Standard Deviation 1850-1970:')\n",
    "print('DA recon = '+str(np.round(da_std_1850_1970,5)*np.power(10,6)))\n",
    "print('Walsh = '+str(np.round(walsh_std_1850_1970,5)*np.power(10,6)))\n",
    "\n",
    "da_std_1850_1970/walsh_std_1850_1970"
   ]
  },
  {
   "cell_type": "code",
   "execution_count": 152,
   "metadata": {},
   "outputs": [
    {
     "name": "stdout",
     "output_type": "stream",
     "text": [
      "Standard Deviation 1850-1970:\n",
      "DA recon = 309750.0\n",
      "Walsh = 222070.0\n"
     ]
    },
    {
     "data": {
      "text/plain": [
       "(1.3948456661478628, 87682.41879229811)"
      ]
     },
     "execution_count": 152,
     "metadata": {},
     "output_type": "execute_result"
    }
   ],
   "source": [
    "da_std_1850_1970  = np.std(sie_full_mean_anom[np.where(np.array(recon_years_all[name_dict[0]]['CRU'])<1979)])\n",
    "walsh_std_1850_1970 = np.std(walsh_sie_anom[np.where(walsh_time<1979)])\n",
    "\n",
    "print('Standard Deviation 1850-1970:')\n",
    "print('DA recon = '+str(np.round(da_std_1850_1970,5)*np.power(10,6)))\n",
    "print('Walsh = '+str(np.round(walsh_std_1850_1970,5)*np.power(10,6)))\n",
    "da_std_1850_1970/walsh_std_1850_1970, (da_std_1850_1970-walsh_std_1850_1970)*np.power(10,6)"
   ]
  },
  {
   "cell_type": "code",
   "execution_count": 167,
   "metadata": {},
   "outputs": [
    {
     "data": {
      "text/plain": [
       "87680.0"
      ]
     },
     "execution_count": 167,
     "metadata": {},
     "output_type": "execute_result"
    }
   ],
   "source": [
    "np.round(da_std_1850_1970,5)*np.power(10,6) - np.round(walsh_std_1850_1970,5)*np.power(10,6)"
   ]
  },
  {
   "cell_type": "code",
   "execution_count": 52,
   "metadata": {},
   "outputs": [
    {
     "data": {
      "text/plain": [
       "0.0003869507479035757"
      ]
     },
     "execution_count": 52,
     "metadata": {},
     "output_type": "execute_result"
    }
   ],
   "source": [
    "#Confidence interval for trend: \n",
    "\n",
    "SE = np.std(slope_cru_sie[allit])/np.sqrt(999)\n",
    "t = 1.962\n",
    "SE*t"
   ]
  },
  {
   "cell_type": "code",
   "execution_count": null,
   "metadata": {},
   "outputs": [],
   "source": []
  },
  {
   "cell_type": "code",
   "execution_count": null,
   "metadata": {},
   "outputs": [],
   "source": []
  }
 ],
 "metadata": {
  "kernelspec": {
   "display_name": "Python 3",
   "language": "python",
   "name": "python3"
  },
  "language_info": {
   "codemirror_mode": {
    "name": "ipython",
    "version": 3
   },
   "file_extension": ".py",
   "mimetype": "text/x-python",
   "name": "python",
   "nbconvert_exporter": "python",
   "pygments_lexer": "ipython3",
   "version": "3.6.6"
  }
 },
 "nbformat": 4,
 "nbformat_minor": 2
}
